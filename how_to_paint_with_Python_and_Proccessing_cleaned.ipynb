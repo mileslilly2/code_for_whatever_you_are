{
  "cells": [
    {
      "cell_type": "markdown",
      "metadata": {
        "id": "view-in-github",
        "colab_type": "text"
      },
      "source": [
        "<a href=\"https://colab.research.google.com/github/mileslilly2/code_for_whatever_you_are/blob/main/how_to_paint_with_Python_and_Proccessing_cleaned.ipynb\" target=\"_parent\"><img src=\"https://colab.research.google.com/assets/colab-badge.svg\" alt=\"Open In Colab\"/></a>"
      ]
    },
    {
      "cell_type": "code",
      "execution_count": 1,
      "metadata": {
        "colab": {
          "base_uri": "https://localhost:8080/"
        },
        "id": "ojtv1-a6BTfx",
        "outputId": "7d1ef0a4-b08e-4073-d85c-30b774c554cc"
      },
      "outputs": [
        {
          "output_type": "stream",
          "name": "stdout",
          "text": [
            "\u001b[?25l   \u001b[90m━━━━━━━━━━━━━━━━━━━━━━━━━━━━━━━━━━━━━━━━\u001b[0m \u001b[32m0.0/1.8 MB\u001b[0m \u001b[31m?\u001b[0m eta \u001b[36m-:--:--\u001b[0m\r\u001b[2K   \u001b[91m━━\u001b[0m\u001b[90m╺\u001b[0m\u001b[90m━━━━━━━━━━━━━━━━━━━━━━━━━━━━━━━━━━━━━\u001b[0m \u001b[32m0.1/1.8 MB\u001b[0m \u001b[31m2.8 MB/s\u001b[0m eta \u001b[36m0:00:01\u001b[0m\r\u001b[2K   \u001b[91m━━━━━\u001b[0m\u001b[91m╸\u001b[0m\u001b[90m━━━━━━━━━━━━━━━━━━━━━━━━━━━━━━━━━━\u001b[0m \u001b[32m0.3/1.8 MB\u001b[0m \u001b[31m4.0 MB/s\u001b[0m eta \u001b[36m0:00:01\u001b[0m\r\u001b[2K   \u001b[91m━━━━━━━━━━━━━━━━━━━\u001b[0m\u001b[90m╺\u001b[0m\u001b[90m━━━━━━━━━━━━━━━━━━━━\u001b[0m \u001b[32m0.9/1.8 MB\u001b[0m \u001b[31m8.7 MB/s\u001b[0m eta \u001b[36m0:00:01\u001b[0m\r\u001b[2K   \u001b[91m━━━━━━━━━━━━━━━━━━━━━━━━━━━━━━━━━━━━━━━\u001b[0m\u001b[91m╸\u001b[0m \u001b[32m1.8/1.8 MB\u001b[0m \u001b[31m13.7 MB/s\u001b[0m eta \u001b[36m0:00:01\u001b[0m\r\u001b[2K   \u001b[90m━━━━━━━━━━━━━━━━━━━━━━━━━━━━━━━━━━━━━━━━\u001b[0m \u001b[32m1.8/1.8 MB\u001b[0m \u001b[31m10.9 MB/s\u001b[0m eta \u001b[36m0:00:00\u001b[0m\n",
            "\u001b[?25h"
          ]
        }
      ],
      "source": [
        "#@title (Optional) Factory reset Colab runtime\n",
        "# This is handy if you've already installed conflicting versions\n",
        "!pip install -q --upgrade pip\n"
      ]
    },
    {
      "cell_type": "code",
      "execution_count": 1,
      "metadata": {
        "id": "4eSgU90eUuJl"
      },
      "outputs": [],
      "source": []
    },
    {
      "cell_type": "code",
      "execution_count": null,
      "metadata": {
        "colab": {
          "base_uri": "https://localhost:8080/"
        },
        "id": "QuflgcJ6BfGj",
        "outputId": "d5a904af-8356-4b23-e940-80fc8d6966aa"
      },
      "outputs": [
        {
          "output_type": "stream",
          "name": "stdout",
          "text": [
            "\u001b[2K   \u001b[91m━━━━━━━━━━━━━━━━━━━━━━━━━━━━━━━━━━━━━━━\u001b[0m\u001b[91m╸\u001b[0m \u001b[32m865.1/865.2 MB\u001b[0m \u001b[31m81.0 MB/s\u001b[0m eta \u001b[36m0:00:01\u001b[0m"
          ]
        }
      ],
      "source": [
        "# Monet Deep-Stroke Extractor  ★ single-notebook version\n",
        "# ╔═════════════════ 0. Install & imports ═════════════════╗\n",
        "!pip -q install torch torchvision --upgrade\n",
        "!pip -q install opencv-python-headless scikit-image shapely tqdm matplotlib\n",
        "\n",
        "import json, math, urllib.request, os, random, io, numpy as np, cv2\n",
        "import matplotlib.pyplot as plt\n",
        "from skimage import morphology, feature, color\n",
        "from shapely.geometry import LineString\n",
        "import torch, torchvision\n",
        "from torchvision import transforms\n",
        "from tqdm.auto import tqdm\n"
      ]
    },
    {
      "cell_type": "code",
      "execution_count": null,
      "metadata": {
        "id": "UdE77XotHMoR"
      },
      "outputs": [],
      "source": [
        "# ╔═════════════════ 1. Grab a Monet & display ═════════════╗\n",
        "IMG_URL = \"https://upload.wikimedia.org/wikipedia/commons/5/5d/Monet_Water_Lilies_1916.jpg\"\n",
        "urllib.request.urlretrieve(IMG_URL, \"monet.jpg\")\n",
        "orig = cv2.cvtColor(cv2.imread(\"monet.jpg\"), cv2.COLOR_BGR2RGB)\n",
        "plt.imshow(orig); plt.axis(\"off\"); plt.title(\"Original Monet\");\n"
      ]
    },
    {
      "cell_type": "code",
      "execution_count": null,
      "metadata": {
        "id": "OKwi78a4BmmN"
      },
      "outputs": [],
      "source": [
        "# ╔═════════════════ 2. VGG-19 hooks for deep feature maps ═════════════╗\n",
        "vgg = torchvision.models.vgg19(weights=\"VGG19_Weights.DEFAULT\").features.eval()\n",
        "\n",
        "layers = {\"conv1_1\":0, \"conv2_1\":5, \"conv3_1\":10, \"conv4_1\":19}\n",
        "acts = {}\n",
        "for name, idx in layers.items():\n",
        "    vgg[idx].register_forward_hook(lambda m, i, o, n=name: acts.update({n:o}))\n",
        "\n",
        "prep = transforms.Compose([\n",
        "    transforms.ToTensor(),\n",
        "    transforms.Normalize(mean=[0.485,0.456,0.406], std=[0.229,0.224,0.225])\n",
        "])\n",
        "x = prep(orig).unsqueeze(0)\n",
        "_ = vgg(x)                       # forward pass\n"
      ]
    },
    {
      "cell_type": "code",
      "execution_count": null,
      "metadata": {
        "id": "n-Y6k1lJIkof"
      },
      "outputs": [],
      "source": [
        "# ╔═════════════════ 3. Visualise selected feature maps ═══════════════╗\n",
        "plt.figure(figsize=(10,3))\n",
        "for k, fmap in acts.items():\n",
        "    ch = fmap[0].mean(0).detach().cpu().numpy()\n",
        "    ch = (ch - ch.min())/(np.ptp(ch)+1e-5)\n",
        "    plt.subplot(1,len(acts), list(acts).index(k)+1)\n",
        "    plt.imshow(cv2.resize(ch, orig.shape[:2][::-1]), cmap='inferno')\n",
        "    plt.axis(\"off\"); plt.title(k);\n",
        "plt.tight_layout();\n"
      ]
    },
    {
      "cell_type": "code",
      "execution_count": null,
      "metadata": {
        "id": "tRuQTZvpJXed"
      },
      "outputs": [],
      "source": [
        "# ╔═════════════════ 4. Fuse feature maps → importance mask ═══════════╗\n",
        "# Simple fusion: mean of (conv2_1 + conv3_1 + conv4_1), then threshold\n",
        "fused = sum(cv2.resize(acts[l][0].mean(0).detach().cpu().numpy(),\n",
        "                       orig.shape[:2][::-1]) for l in [\"conv2_1\",\"conv3_1\",\"conv4_1\"])\n",
        "fused = (fused - fused.min())/(np.ptp(fused)+1e-5)\n",
        "\n",
        "\n",
        "th = np.percentile(fused, 65)            # keep salient regions\n",
        "mask = morphology.remove_small_objects((fused>th), min_size=200)\n",
        "mask = morphology.dilation(mask, morphology.disk(3))\n",
        "\n",
        "plt.imshow(mask, cmap='gray'); plt.axis('off'); plt.title(\"Stroke importance mask\");\n"
      ]
    },
    {
      "cell_type": "code",
      "execution_count": null,
      "metadata": {
        "id": "1ABJNTXjKKAi"
      },
      "outputs": [],
      "source": [
        "# ╔═════════════════ 5. Edge refine & skeletonise ════════════════╗\n",
        "edges = feature.canny(color.rgb2gray(orig), sigma=1)\n",
        "stroke_mask = morphology.skeletonize(mask & edges)\n",
        "\n",
        "plt.imshow(stroke_mask, cmap='gray'); plt.axis('off'); plt.title(\"Skeleton\");\n"
      ]
    },
    {
      "cell_type": "code",
      "execution_count": null,
      "metadata": {
        "id": "urG1cG-vKQga"
      },
      "outputs": [],
      "source": [
        "# ╔═════════════════ 6. Extract polylines, fit cubic Béziers ══════════╗\n",
        "def rdp(pts, eps=2.5):\n",
        "    if len(pts)<3: return pts\n",
        "    return np.asarray(LineString(pts).simplify(eps).coords, np.float32)\n",
        "\n",
        "def poly_to_beziers(poly):\n",
        "    # chunk polyline into groups of 4 points\n",
        "    return [poly[i:i+4] for i in range(0, len(poly)-1, 3) if len(poly[i:i+4])==4]\n",
        "\n",
        "contours, _ = cv2.findContours(stroke_mask.astype(np.uint8), cv2.RETR_LIST,\n",
        "                               cv2.CHAIN_APPROX_NONE)\n",
        "\n",
        "strokes = []\n",
        "for cnt in tqdm(contours, desc=\"fit\"):\n",
        "    pts = cnt[:,0,::-1]               # swap to (x,y)\n",
        "    pts = rdp(pts)\n",
        "    for bez in poly_to_beziers(pts):\n",
        "        (x0,y0) = map(int, bez[0])\n",
        "        r,g,b = orig[y0%orig.shape[0], x0%orig.shape[1]]\n",
        "        strokes.append({\n",
        "            \"points\":[ [float(x),float(y)] for x,y in bez ],\n",
        "            \"width\": 3+2*random.random(),\n",
        "            \"color\":[int(r),int(g),int(b)],\n",
        "            \"opacity\":0.88\n",
        "        })\n",
        "\n",
        "print(\"Strokes:\", len(strokes))\n"
      ]
    },
    {
      "cell_type": "code",
      "execution_count": null,
      "metadata": {
        "id": "lR-ThN6QKWFX"
      },
      "outputs": [],
      "source": [
        "# ╔══════════ 7. (Optional) tiny neural-painter refinement ════════════╗\n",
        "# Skip if you just want quick output.  Set DO_REFINE=False to disable.\n",
        "DO_REFINE = False\n",
        "if DO_REFINE:\n",
        "    # simple heuristic: sort strokes by their mask importance (coarse→fine)\n",
        "    def importance(s):\n",
        "        x,y = map(int, s[\"points\"][0])\n",
        "        return fused[y%fused.shape[0], x%fused.shape[1]]\n",
        "    strokes = sorted(strokes, key=importance)   # paint background first\n"
      ]
    },
    {
      "cell_type": "code",
      "execution_count": null,
      "metadata": {
        "id": "6CGYDkDqKaYE"
      },
      "outputs": [],
      "source": [
        "# ╔═════════════════ 8. Save & download JSON ═══════════════════════════╗\n",
        "with open(\"monet_strokes.json\", \"w\") as f: json.dump(strokes, f, indent=2)\n",
        "\n",
        "from google.colab import files; files.download(\"monet_strokes.json\")\n",
        "print(\"✓  JSON ready.  Drop into the Processing sketch and press Play!\")\n"
      ]
    }
  ],
  "metadata": {
    "colab": {
      "provenance": [],
      "include_colab_link": true
    },
    "kernelspec": {
      "display_name": "Python 3",
      "name": "python3"
    },
    "language_info": {
      "name": "python"
    }
  },
  "nbformat": 4,
  "nbformat_minor": 0
}